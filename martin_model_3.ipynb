{
 "cells": [
  {
   "cell_type": "code",
   "execution_count": 16,
   "metadata": {},
   "outputs": [],
   "source": [
    "import numpy as np\n",
    "import pandas as pd"
   ]
  },
  {
   "cell_type": "code",
   "execution_count": 17,
   "metadata": {},
   "outputs": [
    {
     "name": "stdout",
     "output_type": "stream",
     "text": [
      "Timestamp for 18/2/2024 06:55: 1708239300.0\n"
     ]
    }
   ],
   "source": [
    "import calendar\n",
    "import time\n",
    "\n",
    "def getCurrentTimestamp():\n",
    "    return int(calendar.timegm(time.gmtime()))\n",
    "\n",
    "from datetime import datetime\n",
    "\n",
    "#for ex: 06/12/2021  06:55:00\n",
    "def convert_date_2_timestamp(time_str):\n",
    "    #print(time_str)\n",
    "    try:\n",
    "        dt = datetime.strptime(time_str, \"%d/%m/%Y %H:%M\")\n",
    "        return dt.timestamp()\n",
    "    except ValueError:\n",
    "        print(\"Invalid time format. Please use 'dd/mm/yyyy HH:MM:SS'\")\n",
    "    return None\n",
    "\n",
    "time_str = \"18/2/2024 06:55\"\n",
    "timestamp = convert_date_2_timestamp(time_str)\n",
    "print(f\"Timestamp for {time_str}: {timestamp}\") "
   ]
  },
  {
   "cell_type": "code",
   "execution_count": 18,
   "metadata": {},
   "outputs": [],
   "source": [
    "from sklearn.ensemble import RandomForestClassifier\n",
    "from sklearn.metrics import mean_squared_error, recall_score, explained_variance_score\n",
    "from sklearn.model_selection import GridSearchCV\n",
    "from sklearn.svm import LinearSVC\n",
    "from sklearn import metrics\n",
    "from sklearn.metrics import classification_report\n",
    "from sklearn.linear_model import LinearRegression\n",
    "from sklearn.ensemble import RandomForestRegressor\n",
    "from sklearn.model_selection import train_test_split \n",
    "\n",
    "import matplotlib.pyplot as plt\n",
    "import seaborn as sns  # For nicer plots (optional)\n",
    "\n",
    "import joblib  # or import pickle\n"
   ]
  },
  {
   "cell_type": "code",
   "execution_count": 19,
   "metadata": {},
   "outputs": [
    {
     "name": "stdout",
     "output_type": "stream",
     "text": [
      "[228.49270392]\n"
     ]
    }
   ],
   "source": [
    "# Load the model later\n",
    "loaded_model = joblib.load('random_forest_model_1.joblib')  # or pickle.load(open('random_forest_model.pkl', 'rb'))\n",
    "\n",
    "# Use the loaded model for predictions\n",
    "predictions = loaded_model.predict(pd.DataFrame({\n",
    "                    'from_turbine': [1], \n",
    "                    'to_turbine': [2], \n",
    "                    'from_wave_h': [1.304],\n",
    "                    'from_e_wind': [0.95]\t, \n",
    "                    'from_n_wind': [8.94], \n",
    "                    'from_e_current': [-0.065], \n",
    "                    'from_n_current': [-0.305], \n",
    "                    'from_time': [1638781000]\n",
    "                }))\n",
    "print(predictions)"
   ]
  },
  {
   "cell_type": "code",
   "execution_count": 20,
   "metadata": {},
   "outputs": [
    {
     "name": "stdout",
     "output_type": "stream",
     "text": [
      "[(0, 2), (0, 3), (0, 5), (0, 7), (2, 3), (2, 5), (2, 7), (3, 5), (3, 7), (5, 7)]\n"
     ]
    }
   ],
   "source": [
    "points = [0, 2, 3, 5, 7]\n",
    "from_time = 1638781000\n",
    "\n",
    "#break down into pairs of turbines\n",
    "import itertools\n",
    "pairs = list(itertools.combinations(points, 2))  # 2 specifies pairs\n",
    "print(pairs)\n",
    "pair_len = len(pairs)\n",
    "distances = {}   #key: pair, value: predicted fuel\n",
    "for i in range(0, pair_len):\n",
    "    predicted_value = loaded_model.predict(pd.DataFrame({\n",
    "                    'from_turbine': [pairs[i][0]], \n",
    "                    'to_turbine': [pairs[i][1]], \n",
    "                    'from_wave_h': [1.304],\n",
    "                    'from_e_wind': [0.95]\t, \n",
    "                    'from_n_wind': [8.94], \n",
    "                    'from_e_current': [-0.065], \n",
    "                    'from_n_current': [-0.305], \n",
    "                    'from_time': [1638781000]\n",
    "                }))\n",
    "    distances[pairs[i]] = predicted_value[0]"
   ]
  },
  {
   "cell_type": "code",
   "execution_count": 21,
   "metadata": {},
   "outputs": [
    {
     "data": {
      "text/plain": [
       "{(0, 2): 853.2833940330391,\n",
       " (0, 3): 849.1900255468504,\n",
       " (0, 5): 847.1056140089172,\n",
       " (0, 7): 849.5357101309284,\n",
       " (2, 3): 267.5227924683428,\n",
       " (2, 5): 281.4817788456153,\n",
       " (2, 7): 286.7248997253633,\n",
       " (3, 5): 282.031871795202,\n",
       " (3, 7): 287.27499267494994,\n",
       " (5, 7): 309.1277734903459}"
      ]
     },
     "execution_count": 21,
     "metadata": {},
     "output_type": "execute_result"
    }
   ],
   "source": [
    "distances"
   ]
  },
  {
   "cell_type": "code",
   "execution_count": 22,
   "metadata": {},
   "outputs": [
    {
     "name": "stdout",
     "output_type": "stream",
     "text": [
      "Shortest Path: [0, 5, 2, 3, 7]\n",
      "Total Fuel: 1683.3851779978252\n"
     ]
    }
   ],
   "source": [
    "def shortest_path_starting_from_first(points, distances):\n",
    "    \"\"\"\n",
    "    Finds the shortest path that visits all points exactly once, \n",
    "    starting from the first point in the list.\n",
    "\n",
    "    Args:\n",
    "        points: A list of point labels (e.g., ['A', 'B', 'C', 'D', 'E']).\n",
    "        distances: A dictionary where keys are tuples of two points (in any order)\n",
    "                   and values are the distances between them.\n",
    "\n",
    "    Returns:\n",
    "        A tuple containing:\n",
    "            - The shortest path (a list of point labels in order).\n",
    "            - The total distance of the shortest path.\n",
    "    \"\"\"\n",
    "\n",
    "    if not points:\n",
    "        return [], 0  # Handle empty points list\n",
    "\n",
    "    start_point = points[0]\n",
    "    remaining_points = points[1:]\n",
    "\n",
    "    min_distance = float('inf')\n",
    "    shortest_path_found = None\n",
    "\n",
    "    for path_permutation in itertools.permutations(remaining_points):\n",
    "        current_path = [start_point] + list(path_permutation) # Prepend the starting point\n",
    "        total_distance = 0\n",
    "        for i in range(len(current_path) - 1):\n",
    "            current_point = current_path[i]\n",
    "            next_point = current_path[i + 1]\n",
    "            distance = distances.get((current_point, next_point)) or distances.get((next_point, current_point))\n",
    "            if distance is None:\n",
    "                raise ValueError(f\"Distance between {current_point} and {next_point} not defined.\")\n",
    "            total_distance += distance\n",
    "\n",
    "        if total_distance < min_distance:\n",
    "            min_distance = total_distance\n",
    "            shortest_path_found = current_path\n",
    "\n",
    "    return shortest_path_found, min_distance\n",
    "\n",
    "\n",
    "# Example usage:\n",
    "#points = ['A', 'B', 'C', 'D', 'E']\n",
    "\n",
    "#distances = {\n",
    "#    ('A', 'B'): 10, ('B', 'A'): 10,\n",
    "#    ('A', 'C'): 15, ('C', 'A'): 15,\n",
    "#    ('A', 'D'): 20, ('D', 'A'): 20,\n",
    "#    ('A', 'E'): 25, ('E', 'A'): 25,\n",
    "#    ('B', 'C'): 35, ('C', 'B'): 35,\n",
    "#    ('B', 'D'): 25, ('D', 'B'): 25,\n",
    "#    ('B', 'E'): 30, ('E', 'B'): 30,\n",
    "#    ('C', 'D'): 15, ('D', 'C'): 15,\n",
    "#    ('C', 'E'): 20, ('E', 'C'): 20,\n",
    "#    ('D', 'E'): 10, ('E', 'D'): 10,\n",
    "#}\n",
    "\n",
    "shortest_path_result, min_distance_result = shortest_path_starting_from_first(points, distances)\n",
    "print(\"Shortest Path:\", shortest_path_result)\n",
    "print(\"Total Fuel:\", min_distance_result)\n",
    "\n"
   ]
  },
  {
   "cell_type": "code",
   "execution_count": null,
   "metadata": {},
   "outputs": [],
   "source": []
  }
 ],
 "metadata": {
  "kernelspec": {
   "display_name": "Python 3",
   "language": "python",
   "name": "python3"
  },
  "language_info": {
   "codemirror_mode": {
    "name": "ipython",
    "version": 3
   },
   "file_extension": ".py",
   "mimetype": "text/x-python",
   "name": "python",
   "nbconvert_exporter": "python",
   "pygments_lexer": "ipython3",
   "version": "3.11.9"
  }
 },
 "nbformat": 4,
 "nbformat_minor": 2
}
