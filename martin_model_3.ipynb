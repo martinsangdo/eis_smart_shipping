{
 "cells": [
  {
   "cell_type": "code",
   "execution_count": 27,
   "metadata": {},
   "outputs": [],
   "source": [
    "import pandas as pd\n",
    "\n",
    "from datetime import datetime\n",
    "import calendar\n",
    "import time\n",
    "\n",
    "import joblib  # or import pickle\n",
    "\n",
    "import itertools\n"
   ]
  },
  {
   "cell_type": "code",
   "execution_count": 28,
   "metadata": {},
   "outputs": [],
   "source": [
    "def getCurrentTimestamp():\n",
    "    return int(calendar.timegm(time.gmtime()))\n",
    "\n",
    "\n",
    "#for ex: 06/12/2021  06:55:00\n",
    "def convert_date_2_timestamp(time_str):\n",
    "    #print(time_str)\n",
    "    try:\n",
    "        dt = datetime.strptime(time_str, \"%d/%m/%Y %H:%M\")\n",
    "        return dt.timestamp()\n",
    "    except ValueError:\n",
    "        print(\"Invalid time format. Please use 'dd/mm/yyyy HH:MM:SS'\")\n",
    "    return None\n",
    "\n",
    "#time_str = \"18/2/2024 06:55\"\n",
    "#timestamp = convert_date_2_timestamp(time_str)\n",
    "#print(f\"Timestamp for {time_str}: {timestamp}\") "
   ]
  },
  {
   "cell_type": "code",
   "execution_count": 29,
   "metadata": {},
   "outputs": [],
   "source": [
    "def shortest_path_starting_from_first(points, distances):\n",
    "    \"\"\"\n",
    "    Finds the shortest path that visits all points exactly once, \n",
    "    starting from the first point in the list.\n",
    "\n",
    "    Args:\n",
    "        points: A list of point labels (e.g., ['A', 'B', 'C', 'D', 'E']).\n",
    "        distances: A dictionary where keys are tuples of two points (in any order)\n",
    "                   and values are the distances between them.\n",
    "\n",
    "    Returns:\n",
    "        A tuple containing:\n",
    "            - The shortest path (a list of point labels in order).\n",
    "            - The total distance of the shortest path.\n",
    "    \"\"\"\n",
    "\n",
    "    if not points:\n",
    "        return [], 0  # Handle empty points list\n",
    "\n",
    "    start_point = points[0]\n",
    "    remaining_points = points[1:]\n",
    "\n",
    "    min_distance = float('inf')\n",
    "    shortest_path_found = None\n",
    "\n",
    "    for path_permutation in itertools.permutations(remaining_points):\n",
    "        current_path = [start_point] + list(path_permutation) # Prepend the starting point\n",
    "        total_distance = 0\n",
    "        for i in range(len(current_path) - 1):\n",
    "            current_point = current_path[i]\n",
    "            next_point = current_path[i + 1]\n",
    "            distance = distances.get((current_point, next_point)) or distances.get((next_point, current_point))\n",
    "            if distance is None:\n",
    "                raise ValueError(f\"Distance between {current_point} and {next_point} not defined.\")\n",
    "            total_distance += distance\n",
    "\n",
    "        if total_distance < min_distance:\n",
    "            min_distance = total_distance\n",
    "            shortest_path_found = current_path\n",
    "\n",
    "    return shortest_path_found, min_distance\n"
   ]
  },
  {
   "cell_type": "code",
   "execution_count": null,
   "metadata": {},
   "outputs": [],
   "source": [
    "def get_n_predict():\n",
    "    loaded_model = joblib.load('random_forest_model_1.joblib')  # or pickle.load(open('random_forest_model.pkl', 'rb'))\n",
    "    \n",
    "    points = [0, 2, 3, 5, 7]\n",
    "    from_time = 1638781000\n",
    "\n",
    "    #break down into pairs of turbines\n",
    "    pairs = list(itertools.combinations(points, 2))  # 2 specifies pairs\n",
    "    print(pairs)\n",
    "    pair_len = len(pairs)\n",
    "    distances = {}   #key: pair, value: predicted fuel\n",
    "    for i in range(0, pair_len):\n",
    "        predicted_value = loaded_model.predict(pd.DataFrame({\n",
    "                    'from_turbine': [pairs[i][0]], \n",
    "                    'to_turbine': [pairs[i][1]], \n",
    "                    'from_wave_h': [1.304],\n",
    "                    'from_e_wind': [0.95]\t, \n",
    "                    'from_n_wind': [8.94], \n",
    "                    'from_e_current': [-0.065], \n",
    "                    'from_n_current': [-0.305], \n",
    "                    'from_time': [1638781000]\n",
    "                }))\n",
    "        distances[pairs[i]] = predicted_value[0]\n",
    "    #\n",
    "    #print(distances)\n",
    "    #\n",
    "    shortest_path_result, min_distance_result = shortest_path_starting_from_first(points, distances)\n",
    "    print(\"Shortest Path:\", shortest_path_result)\n",
    "    print(\"Total Fuel:\", min_distance_result)"
   ]
  },
  {
   "cell_type": "code",
   "execution_count": 35,
   "metadata": {},
   "outputs": [
    {
     "name": "stdout",
     "output_type": "stream",
     "text": [
      "[(0, 2), (0, 3), (0, 5), (0, 7), (2, 3), (2, 5), (2, 7), (3, 5), (3, 7), (5, 7)]\n",
      "{(0, 2): 853.2833940330391, (0, 3): 849.1900255468504, (0, 5): 847.1056140089172, (0, 7): 849.5357101309284, (2, 3): 267.5227924683428, (2, 5): 281.4817788456153, (2, 7): 286.7248997253633, (3, 5): 282.031871795202, (3, 7): 287.27499267494994, (5, 7): 309.1277734903459}\n",
      "Shortest Path: [0, 5, 2, 3, 7]\n",
      "Total Fuel: 1683.3851779978252\n"
     ]
    }
   ],
   "source": [
    "get_n_predict()"
   ]
  },
  {
   "cell_type": "code",
   "execution_count": null,
   "metadata": {},
   "outputs": [],
   "source": []
  }
 ],
 "metadata": {
  "kernelspec": {
   "display_name": "Python 3",
   "language": "python",
   "name": "python3"
  },
  "language_info": {
   "codemirror_mode": {
    "name": "ipython",
    "version": 3
   },
   "file_extension": ".py",
   "mimetype": "text/x-python",
   "name": "python",
   "nbconvert_exporter": "python",
   "pygments_lexer": "ipython3",
   "version": "3.11.9"
  }
 },
 "nbformat": 4,
 "nbformat_minor": 2
}
