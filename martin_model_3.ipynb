{
 "cells": [
  {
   "cell_type": "code",
   "execution_count": 11,
   "metadata": {},
   "outputs": [],
   "source": [
    "import numpy as np\n",
    "import pandas as pd"
   ]
  },
  {
   "cell_type": "code",
   "execution_count": 12,
   "metadata": {},
   "outputs": [
    {
     "name": "stdout",
     "output_type": "stream",
     "text": [
      "Timestamp for 18/2/2024 06:55: 1708239300.0\n"
     ]
    }
   ],
   "source": [
    "import calendar\n",
    "import time\n",
    "\n",
    "def getCurrentTimestamp():\n",
    "    return int(calendar.timegm(time.gmtime()))\n",
    "\n",
    "from datetime import datetime\n",
    "\n",
    "#for ex: 06/12/2021  06:55:00\n",
    "def convert_date_2_timestamp(time_str):\n",
    "    #print(time_str)\n",
    "    try:\n",
    "        dt = datetime.strptime(time_str, \"%d/%m/%Y %H:%M\")\n",
    "        return dt.timestamp()\n",
    "    except ValueError:\n",
    "        print(\"Invalid time format. Please use 'dd/mm/yyyy HH:MM:SS'\")\n",
    "    return None\n",
    "\n",
    "time_str = \"18/2/2024 06:55\"\n",
    "timestamp = convert_date_2_timestamp(time_str)\n",
    "print(f\"Timestamp for {time_str}: {timestamp}\") "
   ]
  },
  {
   "cell_type": "code",
   "execution_count": 13,
   "metadata": {},
   "outputs": [],
   "source": [
    "from sklearn.ensemble import RandomForestClassifier\n",
    "from sklearn.metrics import mean_squared_error, recall_score, explained_variance_score\n",
    "from sklearn.model_selection import GridSearchCV\n",
    "from sklearn.svm import LinearSVC\n",
    "from sklearn import metrics\n",
    "from sklearn.metrics import classification_report\n",
    "from sklearn.linear_model import LinearRegression\n",
    "from sklearn.ensemble import RandomForestRegressor\n",
    "from sklearn.model_selection import train_test_split \n",
    "\n",
    "import matplotlib.pyplot as plt\n",
    "import seaborn as sns  # For nicer plots (optional)"
   ]
  },
  {
   "cell_type": "code",
   "execution_count": 14,
   "metadata": {},
   "outputs": [
    {
     "name": "stdout",
     "output_type": "stream",
     "text": [
      "Begin reading CSV file, please wait ...\n",
      "Complete reading CSV file\n",
      "load time:0\n"
     ]
    },
    {
     "data": {
      "text/html": [
       "<div>\n",
       "<style scoped>\n",
       "    .dataframe tbody tr th:only-of-type {\n",
       "        vertical-align: middle;\n",
       "    }\n",
       "\n",
       "    .dataframe tbody tr th {\n",
       "        vertical-align: top;\n",
       "    }\n",
       "\n",
       "    .dataframe thead th {\n",
       "        text-align: right;\n",
       "    }\n",
       "</style>\n",
       "<table border=\"1\" class=\"dataframe\">\n",
       "  <thead>\n",
       "    <tr style=\"text-align: right;\">\n",
       "      <th></th>\n",
       "      <th>Unnamed: 0.1</th>\n",
       "      <th>Unnamed: 0</th>\n",
       "      <th>Submission ID</th>\n",
       "      <th>Transfers : Hour</th>\n",
       "      <th>Transfers : No. of Pax</th>\n",
       "      <th>Transfers : No. of Cargo Lifts/Drops</th>\n",
       "      <th>Lat</th>\n",
       "      <th>Lon</th>\n",
       "      <th>distance</th>\n",
       "      <th>Distance_abs</th>\n",
       "      <th>Total fuel used L</th>\n",
       "      <th>VHM0 (Wave Height)</th>\n",
       "      <th>Eastward Wind</th>\n",
       "      <th>Northward Wind</th>\n",
       "      <th>Eastward Current</th>\n",
       "      <th>Northward Current</th>\n",
       "    </tr>\n",
       "  </thead>\n",
       "  <tbody>\n",
       "    <tr>\n",
       "      <th>count</th>\n",
       "      <td>6947.000000</td>\n",
       "      <td>6947.000000</td>\n",
       "      <td>6.947000e+03</td>\n",
       "      <td>6946.000000</td>\n",
       "      <td>6947.000000</td>\n",
       "      <td>6935.000000</td>\n",
       "      <td>6947.000000</td>\n",
       "      <td>6947.000000</td>\n",
       "      <td>6947.000000</td>\n",
       "      <td>6946.000000</td>\n",
       "      <td>6947.000000</td>\n",
       "      <td>4645.000000</td>\n",
       "      <td>6947.000000</td>\n",
       "      <td>6947.000000</td>\n",
       "      <td>6947.000000</td>\n",
       "      <td>6947.000000</td>\n",
       "    </tr>\n",
       "    <tr>\n",
       "      <th>mean</th>\n",
       "      <td>10676.924860</td>\n",
       "      <td>10676.924860</td>\n",
       "      <td>8.136921e+07</td>\n",
       "      <td>11.549381</td>\n",
       "      <td>4.673096</td>\n",
       "      <td>2.715357</td>\n",
       "      <td>52.391160</td>\n",
       "      <td>2.388653</td>\n",
       "      <td>12.509459</td>\n",
       "      <td>13.123831</td>\n",
       "      <td>294.601593</td>\n",
       "      <td>0.745393</td>\n",
       "      <td>0.147942</td>\n",
       "      <td>1.056938</td>\n",
       "      <td>-0.022132</td>\n",
       "      <td>-0.158906</td>\n",
       "    </tr>\n",
       "    <tr>\n",
       "      <th>std</th>\n",
       "      <td>6998.508139</td>\n",
       "      <td>6998.508139</td>\n",
       "      <td>9.264214e+06</td>\n",
       "      <td>3.880162</td>\n",
       "      <td>2.869124</td>\n",
       "      <td>2.107649</td>\n",
       "      <td>0.314422</td>\n",
       "      <td>0.811950</td>\n",
       "      <td>12.987806</td>\n",
       "      <td>22.022896</td>\n",
       "      <td>301.937394</td>\n",
       "      <td>0.297165</td>\n",
       "      <td>4.120331</td>\n",
       "      <td>4.042826</td>\n",
       "      <td>0.170111</td>\n",
       "      <td>0.589130</td>\n",
       "    </tr>\n",
       "    <tr>\n",
       "      <th>min</th>\n",
       "      <td>0.000000</td>\n",
       "      <td>0.000000</td>\n",
       "      <td>6.526061e+07</td>\n",
       "      <td>2.000000</td>\n",
       "      <td>0.000000</td>\n",
       "      <td>0.000000</td>\n",
       "      <td>52.200183</td>\n",
       "      <td>1.736557</td>\n",
       "      <td>0.000000</td>\n",
       "      <td>0.000000</td>\n",
       "      <td>0.000000</td>\n",
       "      <td>0.078000</td>\n",
       "      <td>-11.990000</td>\n",
       "      <td>-11.770000</td>\n",
       "      <td>-0.730000</td>\n",
       "      <td>-1.185000</td>\n",
       "    </tr>\n",
       "    <tr>\n",
       "      <th>25%</th>\n",
       "      <td>4098.500000</td>\n",
       "      <td>4098.500000</td>\n",
       "      <td>7.321172e+07</td>\n",
       "      <td>8.000000</td>\n",
       "      <td>3.000000</td>\n",
       "      <td>1.000000</td>\n",
       "      <td>52.245617</td>\n",
       "      <td>1.736557</td>\n",
       "      <td>1.206612</td>\n",
       "      <td>0.000000</td>\n",
       "      <td>28.368669</td>\n",
       "      <td>0.522000</td>\n",
       "      <td>-3.230000</td>\n",
       "      <td>-1.730000</td>\n",
       "      <td>-0.160000</td>\n",
       "      <td>-0.692000</td>\n",
       "    </tr>\n",
       "    <tr>\n",
       "      <th>50%</th>\n",
       "      <td>10731.000000</td>\n",
       "      <td>10731.000000</td>\n",
       "      <td>8.095463e+07</td>\n",
       "      <td>11.000000</td>\n",
       "      <td>4.000000</td>\n",
       "      <td>3.000000</td>\n",
       "      <td>52.299750</td>\n",
       "      <td>2.481500</td>\n",
       "      <td>10.127432</td>\n",
       "      <td>2.682713</td>\n",
       "      <td>224.315409</td>\n",
       "      <td>0.776000</td>\n",
       "      <td>0.250000</td>\n",
       "      <td>0.980000</td>\n",
       "      <td>-0.029000</td>\n",
       "      <td>-0.355000</td>\n",
       "    </tr>\n",
       "    <tr>\n",
       "      <th>75%</th>\n",
       "      <td>17322.500000</td>\n",
       "      <td>17322.500000</td>\n",
       "      <td>8.990379e+07</td>\n",
       "      <td>15.000000</td>\n",
       "      <td>6.000000</td>\n",
       "      <td>4.000000</td>\n",
       "      <td>52.474199</td>\n",
       "      <td>2.527783</td>\n",
       "      <td>18.768389</td>\n",
       "      <td>30.184125</td>\n",
       "      <td>465.354928</td>\n",
       "      <td>0.946000</td>\n",
       "      <td>3.530000</td>\n",
       "      <td>4.225000</td>\n",
       "      <td>0.074000</td>\n",
       "      <td>0.395000</td>\n",
       "    </tr>\n",
       "    <tr>\n",
       "      <th>max</th>\n",
       "      <td>22972.000000</td>\n",
       "      <td>22972.000000</td>\n",
       "      <td>9.864308e+07</td>\n",
       "      <td>22.000000</td>\n",
       "      <td>21.000000</td>\n",
       "      <td>30.000000</td>\n",
       "      <td>54.074279</td>\n",
       "      <td>6.832500</td>\n",
       "      <td>139.729180</td>\n",
       "      <td>193.153174</td>\n",
       "      <td>3133.067118</td>\n",
       "      <td>1.874000</td>\n",
       "      <td>11.340000</td>\n",
       "      <td>11.500000</td>\n",
       "      <td>0.634000</td>\n",
       "      <td>1.204000</td>\n",
       "    </tr>\n",
       "  </tbody>\n",
       "</table>\n",
       "</div>"
      ],
      "text/plain": [
       "       Unnamed: 0.1    Unnamed: 0  Submission ID  Transfers : Hour  \\\n",
       "count   6947.000000   6947.000000   6.947000e+03       6946.000000   \n",
       "mean   10676.924860  10676.924860   8.136921e+07         11.549381   \n",
       "std     6998.508139   6998.508139   9.264214e+06          3.880162   \n",
       "min        0.000000      0.000000   6.526061e+07          2.000000   \n",
       "25%     4098.500000   4098.500000   7.321172e+07          8.000000   \n",
       "50%    10731.000000  10731.000000   8.095463e+07         11.000000   \n",
       "75%    17322.500000  17322.500000   8.990379e+07         15.000000   \n",
       "max    22972.000000  22972.000000   9.864308e+07         22.000000   \n",
       "\n",
       "       Transfers : No. of Pax  Transfers : No. of Cargo Lifts/Drops  \\\n",
       "count             6947.000000                           6935.000000   \n",
       "mean                 4.673096                              2.715357   \n",
       "std                  2.869124                              2.107649   \n",
       "min                  0.000000                              0.000000   \n",
       "25%                  3.000000                              1.000000   \n",
       "50%                  4.000000                              3.000000   \n",
       "75%                  6.000000                              4.000000   \n",
       "max                 21.000000                             30.000000   \n",
       "\n",
       "               Lat          Lon     distance  Distance_abs  Total fuel used L  \\\n",
       "count  6947.000000  6947.000000  6947.000000   6946.000000        6947.000000   \n",
       "mean     52.391160     2.388653    12.509459     13.123831         294.601593   \n",
       "std       0.314422     0.811950    12.987806     22.022896         301.937394   \n",
       "min      52.200183     1.736557     0.000000      0.000000           0.000000   \n",
       "25%      52.245617     1.736557     1.206612      0.000000          28.368669   \n",
       "50%      52.299750     2.481500    10.127432      2.682713         224.315409   \n",
       "75%      52.474199     2.527783    18.768389     30.184125         465.354928   \n",
       "max      54.074279     6.832500   139.729180    193.153174        3133.067118   \n",
       "\n",
       "       VHM0 (Wave Height)  Eastward Wind  Northward Wind  Eastward Current  \\\n",
       "count         4645.000000    6947.000000     6947.000000       6947.000000   \n",
       "mean             0.745393       0.147942        1.056938         -0.022132   \n",
       "std              0.297165       4.120331        4.042826          0.170111   \n",
       "min              0.078000     -11.990000      -11.770000         -0.730000   \n",
       "25%              0.522000      -3.230000       -1.730000         -0.160000   \n",
       "50%              0.776000       0.250000        0.980000         -0.029000   \n",
       "75%              0.946000       3.530000        4.225000          0.074000   \n",
       "max              1.874000      11.340000       11.500000          0.634000   \n",
       "\n",
       "       Northward Current  \n",
       "count        6947.000000  \n",
       "mean           -0.158906  \n",
       "std             0.589130  \n",
       "min            -1.185000  \n",
       "25%            -0.692000  \n",
       "50%            -0.355000  \n",
       "75%             0.395000  \n",
       "max             1.204000  "
      ]
     },
     "execution_count": 14,
     "metadata": {},
     "output_type": "execute_result"
    }
   ],
   "source": [
    "start_time = getCurrentTimestamp()\n",
    "path = './data/df_final_red_sum_abs.csv'\n",
    "print('Begin reading CSV file, please wait ...')\n",
    "org_df = pd.read_csv(path, low_memory=False)\n",
    "df = org_df\n",
    "print('Complete reading CSV file')\n",
    "total_time = getCurrentTimestamp() - start_time\n",
    "print('load time:' + str(total_time))\n",
    "#df -> 2925493 rows × 142 columns\n",
    "df.describe()"
   ]
  },
  {
   "cell_type": "code",
   "execution_count": 15,
   "metadata": {},
   "outputs": [
    {
     "name": "stdout",
     "output_type": "stream",
     "text": [
      "1638788400.0\n",
      "0\n",
      "1    1\n",
      "2    2\n",
      "3    3\n",
      "4    3\n",
      "5    2\n",
      "6    1\n",
      "7    0\n",
      "Name: turbine_factorized, dtype: int64\n",
      "149\n"
     ]
    }
   ],
   "source": [
    "#C1 delete unused columns\n",
    "unused_column_names = ['Unnamed: 0.1', 'Unnamed: 0', 'Submission ID', 'Submission ID generated by device', 'Transfers Date', 'Transfers : Time Question', 'Transfers : No. of Pax', 'Transfers : Hour', 'Transfers : To/From where?', 'Transfers : Transfer Up/Down', 'distance', 'Distance_abs','Transfers : No. of Cargo Lifts/Drops', 'Lat', 'Lon']\n",
    "df = df.drop(columns=unused_column_names)\n",
    "df.drop_duplicates()\n",
    "df.columns\n",
    "\n",
    "#convert date time to timestamp\n",
    "df['datetime_sec'] = df['datetime'].apply(convert_date_2_timestamp)\n",
    "print(df['datetime_sec'][6])\n",
    "\n",
    "#c3 convert string to numbers\n",
    "labels, uniques = pd.factorize(df['Vessel'])\n",
    "df['Vessel_factorized'] = labels\n",
    "print(df['Vessel_factorized'][0])\n",
    "\n",
    "#c3 convert string to numbers\n",
    "labels, uniques = pd.factorize(df['Transfers : Turbine'])\n",
    "df['turbine_factorized'] = labels\n",
    "print(df['turbine_factorized'][1:8])\n",
    "\n",
    "#drop columns that already factorized\n",
    "df = df.drop(columns = ['datetime', 'Vessel', 'Transfers : Turbine'])\n",
    "df.columns\n",
    "\n",
    "print(df['turbine_factorized'].max())\n",
    "\n",
    "#fill wave NaN by mean\n",
    "df['VHM0 (Wave Height)'] = df['VHM0 (Wave Height)'].fillna(df['VHM0 (Wave Height)'].mean())"
   ]
  },
  {
   "cell_type": "code",
   "execution_count": 16,
   "metadata": {},
   "outputs": [
    {
     "data": {
      "text/plain": [
       "Index(['Total fuel used L', 'VHM0 (Wave Height)', 'Eastward Wind',\n",
       "       'Northward Wind', 'Eastward Current', 'Northward Current',\n",
       "       'datetime_sec', 'Vessel_factorized', 'turbine_factorized'],\n",
       "      dtype='object')"
      ]
     },
     "execution_count": 16,
     "metadata": {},
     "output_type": "execute_result"
    }
   ],
   "source": [
    "df.columns"
   ]
  },
  {
   "cell_type": "code",
   "execution_count": 17,
   "metadata": {},
   "outputs": [
    {
     "name": "stdout",
     "output_type": "stream",
     "text": [
      "5\n"
     ]
    }
   ],
   "source": [
    "print(df['Vessel_factorized'].max())    #5 vessels"
   ]
  },
  {
   "cell_type": "code",
   "execution_count": 18,
   "metadata": {},
   "outputs": [
    {
     "data": {
      "text/plain": [
       "6947"
      ]
     },
     "execution_count": 18,
     "metadata": {},
     "output_type": "execute_result"
    }
   ],
   "source": [
    "len(df) #6947"
   ]
  },
  {
   "cell_type": "code",
   "execution_count": 19,
   "metadata": {},
   "outputs": [],
   "source": [
    "new_rows = []   #used to create data frame\n",
    "#Create a list of data of based on EACH vessel (Group data for each Vessel because cannot move from the position A to B by 2 different vessels)\n",
    "for vessel_id in range(0, df['Vessel_factorized'].max()):\n",
    "    row_index = 1    #skip the first row\n",
    "    #loop through entire dataset\n",
    "    while row_index < len(df):\n",
    "        if df['Vessel_factorized'][row_index] == vessel_id and df['turbine_factorized'][row_index] != df['turbine_factorized'][row_index - 1]:     #ignore first row, the not moving point, and other vessels\n",
    "            new_row = {\n",
    "                    'from_turbine': df['turbine_factorized'][row_index - 1], \n",
    "                    'to_turbine': df['turbine_factorized'][row_index], \n",
    "                    'from_wave_h': df['VHM0 (Wave Height)'][row_index-1],\n",
    "                    'from_e_wind': df['Eastward Wind'][row_index-1], \n",
    "                    'from_n_wind': df['Northward Wind'][row_index-1], \n",
    "                    'from_e_current': df['Eastward Current'][row_index-1], \n",
    "                    'from_n_current': df['Northward Current'][row_index-1], \n",
    "                    'from_time': df['datetime_sec'][row_index],\n",
    "                    'total_fuel': df['Total fuel used L'][row_index],   #output of model 1\n",
    "                    'duration': df['datetime_sec'][row_index] - df['datetime_sec'][row_index - 1]  #output of model 2\n",
    "                }\n",
    "            new_rows.append(new_row)\n",
    "        row_index += 1"
   ]
  },
  {
   "cell_type": "code",
   "execution_count": 20,
   "metadata": {},
   "outputs": [
    {
     "data": {
      "text/plain": [
       "4807"
      ]
     },
     "execution_count": 20,
     "metadata": {},
     "output_type": "execute_result"
    }
   ],
   "source": [
    "len(new_rows) #4807"
   ]
  },
  {
   "cell_type": "code",
   "execution_count": 21,
   "metadata": {},
   "outputs": [],
   "source": [
    "factorized_df = pd.DataFrame(new_rows)"
   ]
  },
  {
   "cell_type": "code",
   "execution_count": 22,
   "metadata": {},
   "outputs": [
    {
     "name": "stdout",
     "output_type": "stream",
     "text": [
      "<class 'pandas.core.frame.DataFrame'>\n",
      "RangeIndex: 4807 entries, 0 to 4806\n",
      "Data columns (total 10 columns):\n",
      " #   Column          Non-Null Count  Dtype  \n",
      "---  ------          --------------  -----  \n",
      " 0   from_turbine    4807 non-null   int64  \n",
      " 1   to_turbine      4807 non-null   int64  \n",
      " 2   from_wave_h     4807 non-null   float64\n",
      " 3   from_e_wind     4807 non-null   float64\n",
      " 4   from_n_wind     4807 non-null   float64\n",
      " 5   from_e_current  4807 non-null   float64\n",
      " 6   from_n_current  4807 non-null   float64\n",
      " 7   from_time       4807 non-null   float64\n",
      " 8   total_fuel      4807 non-null   float64\n",
      " 9   duration        4807 non-null   float64\n",
      "dtypes: float64(8), int64(2)\n",
      "memory usage: 375.7 KB\n"
     ]
    }
   ],
   "source": [
    "factorized_df.info()"
   ]
  },
  {
   "cell_type": "code",
   "execution_count": 23,
   "metadata": {},
   "outputs": [],
   "source": [
    "Y1_fuel = factorized_df['total_fuel'] #output\n",
    "X1_fuel = factorized_df.drop(['duration', 'total_fuel'], axis=1) #input\n",
    "\n",
    "X_train_fuel, X_test_fuel, Y_train_fuel, Y_test_fuel = train_test_split(X1_fuel, Y1_fuel, \n",
    "                                                    test_size=0.18, #choose % of data to be tested\n",
    "                                                    random_state=1)"
   ]
  },
  {
   "cell_type": "code",
   "execution_count": 24,
   "metadata": {},
   "outputs": [],
   "source": [
    "def run_random_forest(_X_train, _Y_train, _X_test, _Y_test):\n",
    "    start_time = getCurrentTimestamp()\n",
    "    #print('Begin training RDF, please wait ...')\n",
    "    model_rdf = RandomForestRegressor(n_estimators=90, random_state=42)  #default parameters\n",
    "    #model_rdf = RandomForestRegressor(criterion='poisson', max_depth= 10, max_features= None, min_samples_leaf= 4, min_samples_split= 15, n_estimators= 90, random_state=42)\n",
    "    model_rdf.fit(_X_train, _Y_train)\n",
    "    #print('Finish training RDF ...')\n",
    "\n",
    "    total_time = getCurrentTimestamp() - start_time\n",
    "    #print(total_time) #in seconds\n",
    "\n",
    "    #predict by our model\n",
    "    y_pred = model_rdf.predict(_X_test)\n",
    "    #another metric\n",
    "    arma_rmse = np.sqrt(mean_squared_error(_Y_test, y_pred))\n",
    "    print(\"RFC RMSE: \", arma_rmse)\n",
    "\n",
    "    return arma_rmse"
   ]
  },
  {
   "cell_type": "code",
   "execution_count": 25,
   "metadata": {},
   "outputs": [
    {
     "name": "stdout",
     "output_type": "stream",
     "text": [
      "RFC RMSE:  159.34988883430947\n",
      "RFC RMSE:  185.3827425787051\n",
      "RFC RMSE:  204.39354121532978\n",
      "RFC RMSE:  203.96744594653106\n",
      "RFC RMSE:  200.36558791168875\n",
      "RFC RMSE:  252.17732974892374\n",
      "RFC RMSE:  243.4537112718115\n",
      "RFC RMSE:  235.97928288326167\n",
      "RFC RMSE:  227.83881690660053\n",
      "RFC RMSE:  221.84738248484774\n",
      "RFC RMSE:  219.62367972076234\n",
      "RFC RMSE:  226.50405666540837\n",
      "RFC RMSE:  223.59396434910605\n",
      "RFC RMSE:  227.26021549651904\n",
      "RFC RMSE:  225.17462642376466\n",
      "RFC RMSE:  224.20100092069939\n",
      "RFC RMSE:  236.37203285866474\n",
      "RFC RMSE:  230.66735082409414\n",
      "RFC RMSE:  241.31478407862787\n",
      "[0.01, 0.02, 0.03, 0.04, 0.05, 0.060000000000000005, 0.07, 0.08, 0.09, 0.09999999999999999, 0.10999999999999999, 0.11999999999999998, 0.12999999999999998, 0.13999999999999999, 0.15, 0.16, 0.17, 0.18000000000000002, 0.19000000000000003]\n",
      "[159.34988883430947, 185.3827425787051, 204.39354121532978, 203.96744594653106, 200.36558791168875, 252.17732974892374, 243.4537112718115, 235.97928288326167, 227.83881690660053, 221.84738248484774, 219.62367972076234, 226.50405666540837, 223.59396434910605, 227.26021549651904, 225.17462642376466, 224.20100092069939, 236.37203285866474, 230.66735082409414, 241.31478407862787]\n",
      "0.01\n",
      "159.34988883430947\n"
     ]
    },
    {
     "data": {
      "image/png": "[encoded data removed]",
      "text/plain": [
       "<Figure size 640x480 with 1 Axes>"
      ]
     },
     "metadata": {},
     "output_type": "display_data"
    }
   ],
   "source": [
    "i = 0.01    #initial percentage of testing set\n",
    "percentX = []\n",
    "percentY = []\n",
    "while (i <= 0.2):\n",
    "    percentX.append(i)\n",
    "    X_train_fuel, X_test_fuel, Y_train_fuel, Y_test_fuel = train_test_split(X1_fuel, Y1_fuel, \n",
    "                                                    test_size=i, #choose % of data to be tested\n",
    "                                                    random_state=1)\n",
    "    mse = run_random_forest(X_train_fuel, Y_train_fuel, X_test_fuel, Y_test_fuel)\n",
    "    percentY.append(mse)\n",
    "    i += 0.01\n",
    "print(percentX)\n",
    "print(percentY)\n",
    "\n",
    "plt.xlabel('Percent test data')\n",
    "plt.ylabel('Fuel RMSE')\n",
    "plt.plot(percentX, percentY)\n",
    "minY = 100000\n",
    "minX = 0\n",
    "for i in range(0,len(percentY)):\n",
    "    if minY > percentY[i]:\n",
    "        minY = percentY[i]\n",
    "        minX = i\n",
    "\n",
    "print(percentX[minX])   #1%\n",
    "print(minY)     #159"
   ]
  },
  {
   "cell_type": "code",
   "execution_count": 26,
   "metadata": {},
   "outputs": [],
   "source": [
    "n_estimators = []   #number of trees\n",
    "for i in range (10, 100, 10):\n",
    "    n_estimators.append(i)"
   ]
  },
  {
   "cell_type": "code",
   "execution_count": 27,
   "metadata": {},
   "outputs": [],
   "source": [
    "def run_random_forest_tuning(_X_train, _Y_train, _X_test, _Y_test):\n",
    "    start_time = getCurrentTimestamp()\n",
    "    print('Begin training RDF, please wait ...')\n",
    "\n",
    "    # 4. Define the parameter grid to search\n",
    "    param_grid = {\n",
    "        'n_estimators': n_estimators,  # Number of trees in the forest\n",
    "        'max_depth': [None, 10, 15, 20,],      # Maximum depth of the trees\n",
    "        'min_samples_split': [2, 5, 10, 15],   # Minimum number of samples required to split an internal node\n",
    "        'min_samples_leaf': [1, 2, 4, 6],    # Minimum number of samples required to be at a leaf node\n",
    "        'max_features': ['sqrt', 'log2', None],\n",
    "        'criterion': ['squared_error', 'absolute_error', 'poisson'],\n",
    "    }\n",
    "\n",
    "    # 5. Create the RandomForestRegressor model\n",
    "    model_rdf = RandomForestRegressor(random_state=42) #Setting a random state ensures consistent results\n",
    "\n",
    "    # 6. Use GridSearchCV to find the best parameters\n",
    "    grid_search = GridSearchCV(estimator=model_rdf, param_grid=param_grid, cv=5,  # 5-fold cross-validation\n",
    "                            scoring='neg_root_mean_squared_error',  # Use negative MSE as the scoring metric\n",
    "                            n_jobs=-1,  # Use all available cores for parallel processing\n",
    "                            verbose=2) # Verbose to see the progress\n",
    "\n",
    "    grid_search.fit(_X_train, _Y_train)\n",
    "    print('Finish training RDF ...')\n",
    "    print(f\"Best Hyperparameters: {grid_search.best_params_}\")\n",
    "    #60 mins Best Hyperparameters: {'criterion': 'poisson', 'max_depth': 10, 'max_features': None, 'min_samples_leaf': 4, 'min_samples_split': 15, 'n_estimators': 90}\n",
    "    #RMSE:  162.27\n",
    "    total_time = getCurrentTimestamp() - start_time\n",
    "    print('Total time: ' + str(total_time / 1000)) #in seconds\n",
    "\n",
    "    #predict by our model\n",
    "    y_pred = grid_search.predict(_X_test)\n",
    "    #another metric\n",
    "    arma_rmse = np.sqrt(mean_squared_error(_Y_test, y_pred))\n",
    "    print(\"RFC RMSE: \", arma_rmse)\n",
    "\n",
    "    return arma_rmse"
   ]
  },
  {
   "cell_type": "code",
   "execution_count": 28,
   "metadata": {},
   "outputs": [],
   "source": [
    "import joblib  # or import pickle\n"
   ]
  },
  {
   "cell_type": "code",
   "execution_count": 29,
   "metadata": {},
   "outputs": [],
   "source": [
    "def run_random_forest_and_export(_X_train, _Y_train, _X_test, _Y_test):\n",
    "    start_time = getCurrentTimestamp()\n",
    "    #print('Begin training RDF, please wait ...')\n",
    "    model_rdf = RandomForestRegressor(n_estimators=90, random_state=42)  #default parameters\n",
    "    #model_rdf = RandomForestRegressor(criterion='poisson', max_depth= 10, max_features= None, min_samples_leaf= 4, min_samples_split= 15, n_estimators= 90, random_state=42)\n",
    "    model_rdf.fit(_X_train, _Y_train)\n",
    "    #print('Finish training RDF ...')\n",
    "\n",
    "    total_time = getCurrentTimestamp() - start_time\n",
    "    #print(total_time) #in seconds\n",
    "    # Save the model\n",
    "    joblib.dump(model_rdf, 'random_forest_model_1.joblib')  # or pickle.dump(model, open('random_forest_model.pkl', 'wb'))\n",
    "\n",
    "    #predict by our model\n",
    "    y_pred = model_rdf.predict(_X_test)\n",
    "    #another metric\n",
    "    arma_rmse = np.sqrt(mean_squared_error(_Y_test, y_pred))\n",
    "    print(\"RFC RMSE: \", arma_rmse)\n",
    "\n",
    "    return arma_rmse"
   ]
  },
  {
   "cell_type": "code",
   "execution_count": 30,
   "metadata": {},
   "outputs": [],
   "source": [
    "X_train_fuel, X_test_fuel, Y_train_fuel, Y_test_fuel = train_test_split(X1_fuel, Y1_fuel, \n",
    "                                                    test_size=0.01, #choose % of data to be tested\n",
    "                                                    random_state=1)\n",
    "#mse = run_random_forest_and_export(X_train_fuel, Y_train_fuel, X_test_fuel, Y_test_fuel)\n"
   ]
  },
  {
   "cell_type": "code",
   "execution_count": 31,
   "metadata": {},
   "outputs": [],
   "source": [
    "#sns.pairplot(data=factorized_df, diag_kind='kde')"
   ]
  },
  {
   "cell_type": "code",
   "execution_count": 32,
   "metadata": {},
   "outputs": [
    {
     "data": {
      "text/html": [
       "<div>\n",
       "<style scoped>\n",
       "    .dataframe tbody tr th:only-of-type {\n",
       "        vertical-align: middle;\n",
       "    }\n",
       "\n",
       "    .dataframe tbody tr th {\n",
       "        vertical-align: top;\n",
       "    }\n",
       "\n",
       "    .dataframe thead th {\n",
       "        text-align: right;\n",
       "    }\n",
       "</style>\n",
       "<table border=\"1\" class=\"dataframe\">\n",
       "  <thead>\n",
       "    <tr style=\"text-align: right;\">\n",
       "      <th></th>\n",
       "      <th>from_turbine</th>\n",
       "      <th>to_turbine</th>\n",
       "      <th>from_wave_h</th>\n",
       "      <th>from_e_wind</th>\n",
       "      <th>from_n_wind</th>\n",
       "      <th>from_e_current</th>\n",
       "      <th>from_n_current</th>\n",
       "      <th>from_time</th>\n",
       "      <th>total_fuel</th>\n",
       "      <th>duration</th>\n",
       "    </tr>\n",
       "  </thead>\n",
       "  <tbody>\n",
       "    <tr>\n",
       "      <th>0</th>\n",
       "      <td>0</td>\n",
       "      <td>1</td>\n",
       "      <td>0.745393</td>\n",
       "      <td>1.69</td>\n",
       "      <td>3.57</td>\n",
       "      <td>-0.097</td>\n",
       "      <td>-0.629</td>\n",
       "      <td>1.638779e+09</td>\n",
       "      <td>673.887565</td>\n",
       "      <td>5100.0</td>\n",
       "    </tr>\n",
       "    <tr>\n",
       "      <th>1</th>\n",
       "      <td>1</td>\n",
       "      <td>2</td>\n",
       "      <td>1.304000</td>\n",
       "      <td>0.95</td>\n",
       "      <td>8.94</td>\n",
       "      <td>-0.065</td>\n",
       "      <td>-0.305</td>\n",
       "      <td>1.638781e+09</td>\n",
       "      <td>198.464028</td>\n",
       "      <td>1920.0</td>\n",
       "    </tr>\n",
       "  </tbody>\n",
       "</table>\n",
       "</div>"
      ],
      "text/plain": [
       "   from_turbine  to_turbine  from_wave_h  from_e_wind  from_n_wind  \\\n",
       "0             0           1     0.745393         1.69         3.57   \n",
       "1             1           2     1.304000         0.95         8.94   \n",
       "\n",
       "   from_e_current  from_n_current     from_time  total_fuel  duration  \n",
       "0          -0.097          -0.629  1.638779e+09  673.887565    5100.0  \n",
       "1          -0.065          -0.305  1.638781e+09  198.464028    1920.0  "
      ]
     },
     "execution_count": 32,
     "metadata": {},
     "output_type": "execute_result"
    }
   ],
   "source": [
    "factorized_df[0:2]"
   ]
  },
  {
   "cell_type": "code",
   "execution_count": 33,
   "metadata": {},
   "outputs": [
    {
     "name": "stdout",
     "output_type": "stream",
     "text": [
      "<class 'pandas.core.frame.DataFrame'>\n",
      "Index: 4758 entries, 4156 to 235\n",
      "Data columns (total 8 columns):\n",
      " #   Column          Non-Null Count  Dtype  \n",
      "---  ------          --------------  -----  \n",
      " 0   from_turbine    4758 non-null   int64  \n",
      " 1   to_turbine      4758 non-null   int64  \n",
      " 2   from_wave_h     4758 non-null   float64\n",
      " 3   from_e_wind     4758 non-null   float64\n",
      " 4   from_n_wind     4758 non-null   float64\n",
      " 5   from_e_current  4758 non-null   float64\n",
      " 6   from_n_current  4758 non-null   float64\n",
      " 7   from_time       4758 non-null   float64\n",
      "dtypes: float64(6), int64(2)\n",
      "memory usage: 334.5 KB\n"
     ]
    }
   ],
   "source": [
    "X_train_fuel.info()"
   ]
  },
  {
   "cell_type": "code",
   "execution_count": 34,
   "metadata": {},
   "outputs": [
    {
     "name": "stdout",
     "output_type": "stream",
     "text": [
      "[228.49270392]\n"
     ]
    }
   ],
   "source": [
    "# Load the model later\n",
    "loaded_model = joblib.load('random_forest_model_1.joblib')  # or pickle.load(open('random_forest_model.pkl', 'rb'))\n",
    "\n",
    "# Use the loaded model for predictions\n",
    "predictions = loaded_model.predict(pd.DataFrame({\n",
    "                    'from_turbine': [1], \n",
    "                    'to_turbine': [2], \n",
    "                    'from_wave_h': [1.304],\n",
    "                    'from_e_wind': [0.95]\t, \n",
    "                    'from_n_wind': [8.94], \n",
    "                    'from_e_current': [-0.065], \n",
    "                    'from_n_current': [-0.305], \n",
    "                    'from_time': [1638781000]\n",
    "                }))\n",
    "print(predictions)"
   ]
  },
  {
   "cell_type": "code",
   "execution_count": 38,
   "metadata": {},
   "outputs": [
    {
     "name": "stdout",
     "output_type": "stream",
     "text": [
      "[(0, 2), (0, 3), (0, 5), (0, 7), (2, 3), (2, 5), (2, 7), (3, 5), (3, 7), (5, 7)]\n"
     ]
    }
   ],
   "source": [
    "points = [0, 2, 3, 5, 7]\n",
    "from_time = 1638781000\n",
    "\n",
    "#break down into pairs of turbines\n",
    "import itertools\n",
    "pairs = list(itertools.combinations(points, 2))  # 2 specifies pairs\n",
    "print(pairs)\n",
    "pair_len = len(pairs)\n",
    "distances = {}   #key: pair, value: predicted fuel\n",
    "for i in range(0, pair_len):\n",
    "    predicted_value = loaded_model.predict(pd.DataFrame({\n",
    "                    'from_turbine': [pairs[i][0]], \n",
    "                    'to_turbine': [pairs[i][1]], \n",
    "                    'from_wave_h': [1.304],\n",
    "                    'from_e_wind': [0.95]\t, \n",
    "                    'from_n_wind': [8.94], \n",
    "                    'from_e_current': [-0.065], \n",
    "                    'from_n_current': [-0.305], \n",
    "                    'from_time': [1638781000]\n",
    "                }))\n",
    "    distances[pairs[i]] = predicted_value[0]"
   ]
  },
  {
   "cell_type": "code",
   "execution_count": 39,
   "metadata": {},
   "outputs": [
    {
     "data": {
      "text/plain": [
       "{(0, 2): 853.2833940330391,\n",
       " (0, 3): 849.1900255468504,\n",
       " (0, 5): 847.1056140089172,\n",
       " (0, 7): 849.5357101309284,\n",
       " (2, 3): 267.5227924683428,\n",
       " (2, 5): 281.4817788456153,\n",
       " (2, 7): 286.7248997253633,\n",
       " (3, 5): 282.031871795202,\n",
       " (3, 7): 287.27499267494994,\n",
       " (5, 7): 309.1277734903459}"
      ]
     },
     "execution_count": 39,
     "metadata": {},
     "output_type": "execute_result"
    }
   ],
   "source": [
    "distances"
   ]
  },
  {
   "cell_type": "code",
   "execution_count": null,
   "metadata": {},
   "outputs": [
    {
     "name": "stdout",
     "output_type": "stream",
     "text": [
      "Shortest Path: [0, 5, 2, 3, 7]\n",
      "Total Distance: 1683.3851779978252\n"
     ]
    }
   ],
   "source": [
    "def shortest_path_starting_from_first(points, distances):\n",
    "    \"\"\"\n",
    "    Finds the shortest path that visits all points exactly once, \n",
    "    starting from the first point in the list.\n",
    "\n",
    "    Args:\n",
    "        points: A list of point labels (e.g., ['A', 'B', 'C', 'D', 'E']).\n",
    "        distances: A dictionary where keys are tuples of two points (in any order)\n",
    "                   and values are the distances between them.\n",
    "\n",
    "    Returns:\n",
    "        A tuple containing:\n",
    "            - The shortest path (a list of point labels in order).\n",
    "            - The total distance of the shortest path.\n",
    "    \"\"\"\n",
    "\n",
    "    if not points:\n",
    "        return [], 0  # Handle empty points list\n",
    "\n",
    "    start_point = points[0]\n",
    "    remaining_points = points[1:]\n",
    "\n",
    "    min_distance = float('inf')\n",
    "    shortest_path_found = None\n",
    "\n",
    "    for path_permutation in itertools.permutations(remaining_points):\n",
    "        current_path = [start_point] + list(path_permutation) # Prepend the starting point\n",
    "        total_distance = 0\n",
    "        for i in range(len(current_path) - 1):\n",
    "            current_point = current_path[i]\n",
    "            next_point = current_path[i + 1]\n",
    "            distance = distances.get((current_point, next_point)) or distances.get((next_point, current_point))\n",
    "            if distance is None:\n",
    "                raise ValueError(f\"Distance between {current_point} and {next_point} not defined.\")\n",
    "            total_distance += distance\n",
    "\n",
    "        if total_distance < min_distance:\n",
    "            min_distance = total_distance\n",
    "            shortest_path_found = current_path\n",
    "\n",
    "    return shortest_path_found, min_distance\n",
    "\n",
    "\n",
    "# Example usage:\n",
    "#points = ['A', 'B', 'C', 'D', 'E']\n",
    "\n",
    "#distances = {\n",
    "#    ('A', 'B'): 10, ('B', 'A'): 10,\n",
    "#    ('A', 'C'): 15, ('C', 'A'): 15,\n",
    "#    ('A', 'D'): 20, ('D', 'A'): 20,\n",
    "#    ('A', 'E'): 25, ('E', 'A'): 25,\n",
    "#    ('B', 'C'): 35, ('C', 'B'): 35,\n",
    "#    ('B', 'D'): 25, ('D', 'B'): 25,\n",
    "#    ('B', 'E'): 30, ('E', 'B'): 30,\n",
    "#    ('C', 'D'): 15, ('D', 'C'): 15,\n",
    "#    ('C', 'E'): 20, ('E', 'C'): 20,\n",
    "#    ('D', 'E'): 10, ('E', 'D'): 10,\n",
    "#}\n",
    "\n",
    "shortest_path_result, min_distance_result = shortest_path_starting_from_first(points, distances)\n",
    "print(\"Shortest Path:\", shortest_path_result)\n",
    "print(\"Total Fuel:\", min_distance_result)\n",
    "\n"
   ]
  },
  {
   "cell_type": "code",
   "execution_count": null,
   "metadata": {},
   "outputs": [],
   "source": []
  }
 ],
 "metadata": {
  "kernelspec": {
   "display_name": "Python 3",
   "language": "python",
   "name": "python3"
  },
  "language_info": {
   "codemirror_mode": {
    "name": "ipython",
    "version": 3
   },
   "file_extension": ".py",
   "mimetype": "text/x-python",
   "name": "python",
   "nbconvert_exporter": "python",
   "pygments_lexer": "ipython3",
   "version": "3.11.9"
  }
 },
 "nbformat": 4,
 "nbformat_minor": 2
}
